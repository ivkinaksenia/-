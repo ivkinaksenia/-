{
 "cells": [
  {
   "cell_type": "markdown",
   "id": "a747695e",
   "metadata": {},
   "source": [
    "# Домашнее задание Python-3. Работа с циклами и словарями"
   ]
  },
  {
   "cell_type": "markdown",
   "id": "f0bebffd",
   "metadata": {},
   "source": [
    "### Задание 1. Поупражняемся со списками"
   ]
  },
  {
   "cell_type": "code",
   "execution_count": 5,
   "id": "46054526",
   "metadata": {},
   "outputs": [],
   "source": [
    "##### Будем работать с листом lst\n",
    "\n",
    "lst = [0, 1, 1, 2, 3, 5, 8, 13, 21, 34, 55, 89, 144, 233, 377, 610, 987, 1597, 2584, 4181, 6765]"
   ]
  },
  {
   "cell_type": "code",
   "execution_count": 6,
   "id": "95541898",
   "metadata": {},
   "outputs": [
    {
     "name": "stdout",
     "output_type": "stream",
     "text": [
      "17710\n"
     ]
    }
   ],
   "source": [
    "##############################################   Задание 1.1   #################################################################\n",
    "\n",
    "### Напишите скрипт, который суvмирует все значения в списке lst. Используйте функцию суммы\n",
    "print(sum(lst))"
   ]
  },
  {
   "cell_type": "code",
   "execution_count": 7,
   "id": "aac77be3",
   "metadata": {},
   "outputs": [
    {
     "name": "stdout",
     "output_type": "stream",
     "text": [
      "17710\n"
     ]
    }
   ],
   "source": [
    "##############################################   Задание 1.2   #################################################################\n",
    "\n",
    "### Напишите скрипт, который сумvирует все значения в списке lst. Используйте цикл\n",
    "sum=0\n",
    "for i in lst:\n",
    "    sum=sum+i\n",
    "print(sum)"
   ]
  },
  {
   "cell_type": "code",
   "execution_count": 8,
   "id": "f88d025b",
   "metadata": {},
   "outputs": [
    {
     "name": "stdout",
     "output_type": "stream",
     "text": [
      "0\n"
     ]
    }
   ],
   "source": [
    "##############################################   Задание 1.3   #################################################################\n",
    "\n",
    "### Напишите скрипт, который перемножает все значения в списке lst. Используйте цикл\n",
    "mul=1\n",
    "for i in lst:\n",
    "    mul*=i\n",
    "print(mul)"
   ]
  },
  {
   "cell_type": "code",
   "execution_count": 9,
   "id": "0f8d9856",
   "metadata": {},
   "outputs": [
    {
     "name": "stdout",
     "output_type": "stream",
     "text": [
      "6765\n"
     ]
    }
   ],
   "source": [
    "##############################################   Задание 1.4   #################################################################\n",
    "\n",
    "### Напишите скрипт, который выведет самое большое значения в списке lst. Используйте функцию максимум\n",
    "print(max(lst))"
   ]
  },
  {
   "cell_type": "code",
   "execution_count": 10,
   "id": "81e766db",
   "metadata": {},
   "outputs": [
    {
     "name": "stdout",
     "output_type": "stream",
     "text": [
      "6765\n"
     ]
    }
   ],
   "source": [
    "##############################################   Задание 1.5   #################################################################\n",
    "\n",
    "### Напишите скрипт, который выведет самое большое значения в списке lst. Используйте цикл\n",
    "maximum = 0\n",
    "for i in lst:\n",
    "    if i > maximum:\n",
    "        maximum = i\n",
    "print(maximum)"
   ]
  },
  {
   "cell_type": "code",
   "execution_count": 11,
   "id": "e3558ae1",
   "metadata": {},
   "outputs": [
    {
     "name": "stdout",
     "output_type": "stream",
     "text": [
      "0\n"
     ]
    }
   ],
   "source": [
    "##############################################   Задание 1.6   #################################################################\n",
    "\n",
    "### Напишите скрипт, который выведет самое маленькое значения в списке lst. Используйте функцию минимум\n",
    "print(min(lst))"
   ]
  },
  {
   "cell_type": "code",
   "execution_count": 12,
   "id": "5201c583",
   "metadata": {},
   "outputs": [
    {
     "name": "stdout",
     "output_type": "stream",
     "text": [
      "0\n"
     ]
    }
   ],
   "source": [
    "##############################################   Задание 1.7   #################################################################\n",
    "\n",
    "### Напишите скрипт, который выведет самое маленькое значения в списке lst. Используйте цикл\n",
    "minimum = 0\n",
    "for i in lst:\n",
    "    if i < minimum:\n",
    "        minimum = i\n",
    "print(minimum)"
   ]
  },
  {
   "cell_type": "code",
   "execution_count": 13,
   "id": "9719cc73",
   "metadata": {},
   "outputs": [
    {
     "name": "stdout",
     "output_type": "stream",
     "text": [
      "4\n"
     ]
    }
   ],
   "source": [
    "##############################################   Задание 1.8   #################################################################\n",
    "\n",
    "### Напишите скрипт, который выведет количество элементов в списке lst, которые превышают 1500 (строго). Используйте цикл for\n",
    "counter = 0 \n",
    "for i in lst:\n",
    "    if i >1500:\n",
    "        counter += 1\n",
    "print(counter)   "
   ]
  },
  {
   "cell_type": "code",
   "execution_count": 14,
   "id": "d60adf58",
   "metadata": {},
   "outputs": [
    {
     "name": "stdout",
     "output_type": "stream",
     "text": [
      "False\n"
     ]
    }
   ],
   "source": [
    "##############################################   Задание 1.9   #################################################################\n",
    "\n",
    "###  Напишите скрипт, который возвращает True если список lst пустой, и False если он не пустой. \n",
    "###  Используйте функцию длины и логические условия\n",
    "if len(lst) > 0:  \n",
    "    print('False') \n",
    "else: \n",
    "    print('True')"
   ]
  },
  {
   "cell_type": "code",
   "execution_count": 15,
   "id": "1e952b4f",
   "metadata": {},
   "outputs": [
    {
     "name": "stdout",
     "output_type": "stream",
     "text": [
      "[1597, 2584, 4181, 6765]\n"
     ]
    }
   ],
   "source": [
    "#############################################   Задание 1.10   #################################################################\n",
    "\n",
    "### Напишите скрипт, который выводит только только те элементы lst, которые больше тысячи (не строго).\n",
    "### Используйте цикл.\n",
    "new_lst = []\n",
    "for i in lst:\n",
    "    if i >= 1000:\n",
    "        new_lst.append(i)\n",
    "print(new_lst)"
   ]
  },
  {
   "cell_type": "code",
   "execution_count": 28,
   "id": "22d33cfc",
   "metadata": {
    "scrolled": false
   },
   "outputs": [
    {
     "name": "stdout",
     "output_type": "stream",
     "text": [
      "[1, 1, 3, 5, 13, 21, 55, 89, 233, 377, 987, 1597, 4181, 6765]\n"
     ]
    }
   ],
   "source": [
    "##############################################   Задание 1.11   ################################################################\n",
    "\n",
    "### Напишите скрипт, который выводит только только те элементы lst, которые являютяс нечетными числами.\n",
    "### Используйте цикл.\n",
    "new_lst = []\n",
    "for i in lst:\n",
    "    if i%2 > 0:\n",
    "        new_lst.append(i)\n",
    "print(new_lst)"
   ]
  },
  {
   "cell_type": "markdown",
   "id": "63eadcd6",
   "metadata": {},
   "source": [
    "### Задание 2. Поупражняемся со списками посложнее"
   ]
  },
  {
   "cell_type": "code",
   "execution_count": 16,
   "id": "285421de",
   "metadata": {},
   "outputs": [],
   "source": [
    "nested_list = [['Михаил', 13, 'Spb', False], ['Михаил', 'Шагане', 'Дмитрий', 'Мария'],12, (56, '44'), True]\n"
   ]
  },
  {
   "cell_type": "code",
   "execution_count": 17,
   "id": "2a53036a",
   "metadata": {},
   "outputs": [
    {
     "name": "stdout",
     "output_type": "stream",
     "text": [
      "['Михаил', 13, 'Spb', False]   <class 'list'>\n",
      "['Михаил', 'Шагане', 'Дмитрий', 'Мария']   <class 'list'>\n",
      "12   <class 'int'>\n",
      "(56, '44')   <class 'tuple'>\n",
      "True   <class 'bool'>\n"
     ]
    }
   ],
   "source": [
    "##############################################   Задание 2.1   #################################################################\n",
    "\n",
    "### Напишите скрипт, который возвращает типы данных для каждого элемента внутри списка nested_list\n",
    "print(nested_list[0], ' ', type(nested_list[0]))\n",
    "print(nested_list[1], ' ', type(nested_list[1]))  \n",
    "print(nested_list[2], ' ', type(nested_list[2]))\n",
    "print(nested_list[3], ' ', type(nested_list[3]))\n",
    "print(nested_list[4], ' ', type(nested_list[4]))"
   ]
  },
  {
   "cell_type": "code",
   "execution_count": 18,
   "id": "cb5241f9",
   "metadata": {},
   "outputs": [
    {
     "name": "stdout",
     "output_type": "stream",
     "text": [
      "0 ['Михаил', 13, 'Spb', False]\n",
      "1 ['Михаил', 'Шагане', 'Дмитрий', 'Мария']\n",
      "2 12\n",
      "3 (56, '44')\n",
      "4 True\n"
     ]
    }
   ],
   "source": [
    "##############################################   Задание 2.2   #################################################################\n",
    "\n",
    "### Напишите скрипт, который перебирает элементы списка nested_list и возвращает:\n",
    "###  1. порядковый номер элемента\n",
    "###  2. значение элемента\n",
    "###  Используйте цикл и функцию range\n",
    "for i in range(len(nested_list)):\n",
    "        print(i,nested_list[i])"
   ]
  },
  {
   "cell_type": "code",
   "execution_count": 20,
   "id": "e7981311",
   "metadata": {},
   "outputs": [
    {
     "name": "stdout",
     "output_type": "stream",
     "text": [
      "Михаил\n",
      "13\n",
      "Spb\n",
      "False\n",
      "Михаил\n",
      "Шагане\n",
      "Дмитрий\n",
      "Мария\n",
      "12\n",
      "(56, '44')\n",
      "True\n"
     ]
    }
   ],
   "source": [
    "##############################################   Задание 2.3   #################################################################\n",
    "\n",
    "### Напишите скрипт, который перебирает элементы списка nested_list.\n",
    "### Если элемент внутри списка также является списком - то скрипт должен перебрать и его элементы.\n",
    "### Вам необходимо построить цикл, внутри него условие, и внутри условия еще один цикл.\n",
    "for i in nested_list:\n",
    "    if type(i)==list:\n",
    "        for j in i:\n",
    "            print(j)\n",
    "    else:\n",
    "        print(i)"
   ]
  },
  {
   "cell_type": "markdown",
   "id": "707b7dd8",
   "metadata": {},
   "source": [
    "### Задание 3. Поупражняемся со словарями"
   ]
  },
  {
   "cell_type": "code",
   "execution_count": 148,
   "id": "0443838e",
   "metadata": {},
   "outputs": [],
   "source": [
    "employees_0 = {'Bob':'Dev','Albert':'Manager','Victor':'Analyst','Anna':'Analyst'}"
   ]
  },
  {
   "cell_type": "code",
   "execution_count": 154,
   "id": "08615d69",
   "metadata": {},
   "outputs": [
    {
     "name": "stdout",
     "output_type": "stream",
     "text": [
      "Bob\n",
      "Victor\n",
      "Anna\n"
     ]
    }
   ],
   "source": [
    "##############################################   Задание 3.1   #################################################################\n",
    "\n",
    "#employees_0## Выведите имена всех сотрудников, кто не является менеджером. Используйте цикл for с условием внутри.\n",
    "for key, value in employees_0.items():\n",
    "        if value !=\"Manager\":\n",
    "            employees_0[key] = value\n",
    "            print(key)"
   ]
  },
  {
   "cell_type": "code",
   "execution_count": 139,
   "id": "38da0f6c",
   "metadata": {},
   "outputs": [
    {
     "name": "stdout",
     "output_type": "stream",
     "text": [
      "2\n"
     ]
    }
   ],
   "source": [
    "##############################################   Задание 3.2   #################################################################\n",
    "\n",
    "### Посчитайте количество сотрудников-аналитиков. Используйте цикл for с условием внутри.\n",
    "counter = 0 \n",
    "for key, value in employees_0.items():\n",
    "        if value ==\"Analyst\":\n",
    "            counter += 1\n",
    "print(counter)"
   ]
  },
  {
   "cell_type": "code",
   "execution_count": 141,
   "id": "fc64e969",
   "metadata": {},
   "outputs": [
    {
     "name": "stdout",
     "output_type": "stream",
     "text": [
      "3\n"
     ]
    }
   ],
   "source": [
    "##############################################   Задание 3.3   #################################################################\n",
    "\n",
    "### Посчитайте количество сотрудников, которые или являются аналитиками, или их зовут Боб. \n",
    "### Используйте цикл for с условием внутри.\n",
    "counter = 0 \n",
    "for key, value in employees_0.items():\n",
    "        if (value ==\"Analyst\" or key==\"Bob\"):\n",
    "            counter += 1\n",
    "print(counter)"
   ]
  },
  {
   "cell_type": "code",
   "execution_count": 175,
   "id": "bc724320",
   "metadata": {},
   "outputs": [
    {
     "name": "stdout",
     "output_type": "stream",
     "text": [
      "Dev\n"
     ]
    }
   ],
   "source": [
    "##############################################   Задание 3.4   #################################################################\n",
    "\n",
    "##### Изменим немного структуру словаря\n",
    "\n",
    "employees_1 = {'name':['Bob','Albert','Victor', 'Anna'], 'job':['Dev','Manager','Analyst','Analyst']}\n",
    "\n",
    "### Выведите профессию первого сотрудника в словаре\n",
    "x = employees_1[\"job\"] \n",
    "print(x[0])"
   ]
  },
  {
   "cell_type": "code",
   "execution_count": 143,
   "id": "2f22beb3",
   "metadata": {},
   "outputs": [
    {
     "name": "stdout",
     "output_type": "stream",
     "text": [
      "4\n"
     ]
    }
   ],
   "source": [
    "##############################################   Задание 3.5   #################################################################\n",
    "\n",
    "### Выведите количество сотрудников в словаре\n",
    "counter = 0 \n",
    "for key, value in employees_0.items():\n",
    "    counter += 1\n",
    "print(counter)"
   ]
  },
  {
   "cell_type": "code",
   "execution_count": 144,
   "id": "64aef281",
   "metadata": {},
   "outputs": [
    {
     "name": "stdout",
     "output_type": "stream",
     "text": [
      "2\n"
     ]
    }
   ],
   "source": [
    "##############################################   Задание 3.6   #################################################################\n",
    "\n",
    "### Выведите количество сотрудников-аналитиков в словаре. Используйте цикл с условием.\n",
    "counter = 0 \n",
    "for key, value in employees_0.items():\n",
    "        if value ==\"Analyst\":\n",
    "            counter += 1\n",
    "print(counter)"
   ]
  },
  {
   "cell_type": "markdown",
   "id": "59bb4abc",
   "metadata": {},
   "source": [
    "## 🎉🎉🎉 Поздравляем, вы великолепны! "
   ]
  },
  {
   "cell_type": "code",
   "execution_count": null,
   "id": "865b5156",
   "metadata": {},
   "outputs": [],
   "source": []
  }
 ],
 "metadata": {
  "kernelspec": {
   "display_name": "Python 3 (ipykernel)",
   "language": "python",
   "name": "python3"
  },
  "language_info": {
   "codemirror_mode": {
    "name": "ipython",
    "version": 3
   },
   "file_extension": ".py",
   "mimetype": "text/x-python",
   "name": "python",
   "nbconvert_exporter": "python",
   "pygments_lexer": "ipython3",
   "version": "3.9.12"
  }
 },
 "nbformat": 4,
 "nbformat_minor": 5
}
